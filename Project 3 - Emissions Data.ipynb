{
 "cells": [
  {
   "cell_type": "code",
   "execution_count": null,
   "id": "020f7299",
   "metadata": {},
   "outputs": [],
   "source": [
    "#loading dependencies\n",
    "import pandas as pd\n",
    "import numpy as np\n",
    "import plotly.express as px\n",
    "import matplotlib.pyplot as plt\n",
    "from sqlalchemy import create_engine\n",
    "\n",
    "df = pd.read_csv(\"./Methane_final.csv\")\n",
    "df"
   ]
  },
  {
   "cell_type": "code",
   "execution_count": null,
   "id": "24da97b8",
   "metadata": {},
   "outputs": [],
   "source": [
    "#checking column names\n",
    "df.columns"
   ]
  },
  {
   "cell_type": "code",
   "execution_count": null,
   "id": "cbe06bcf",
   "metadata": {},
   "outputs": [],
   "source": [
    "#renaming columns\n",
    "clean_df = df.rename(columns={\n",
    "    \"baseYear\": \"baseyear\",\n",
    "    \"Unnamed: 0\": \"unnamed\"\n",
    "})\n",
    "\n",
    "clean_df.columns"
   ]
  },
  {
   "cell_type": "code",
   "execution_count": null,
   "id": "1b180627",
   "metadata": {},
   "outputs": [],
   "source": [
    "#removing unneeded 'unnamed' column\n",
    "clean_df.drop('unnamed', inplace=True, axis=1)\n",
    "\n",
    "clean_df"
   ]
  },
  {
   "cell_type": "code",
   "execution_count": null,
   "id": "16e6d88c",
   "metadata": {},
   "outputs": [],
   "source": [
    "#checking if there are any null values\n",
    "clean_df.isnull().sum()"
   ]
  },
  {
   "cell_type": "code",
   "execution_count": null,
   "id": "303456fc",
   "metadata": {},
   "outputs": [],
   "source": [
    "#checking to see each region\n",
    "clean_df[\"region\"].unique()"
   ]
  },
  {
   "cell_type": "code",
   "execution_count": null,
   "id": "ade3db0d",
   "metadata": {},
   "outputs": [],
   "source": [
    "#checking to see each region's emissions counts\n",
    "clean_df[\"region\"].value_counts()"
   ]
  },
  {
   "cell_type": "code",
   "execution_count": null,
   "id": "605bd255",
   "metadata": {},
   "outputs": [],
   "source": [
    "#checking list of countries\n",
    "clean_df[\"country\"].unique()"
   ]
  },
  {
   "cell_type": "code",
   "execution_count": null,
   "id": "6e9bd539",
   "metadata": {},
   "outputs": [],
   "source": [
    "#removing World country from dataframe\n",
    "#cleaner_df=clean_df[clean_df[\"country\"]!=\"World\"]\n",
    "#cleaner_df"
   ]
  },
  {
   "cell_type": "code",
   "execution_count": null,
   "id": "8b055e07",
   "metadata": {},
   "outputs": [],
   "source": [
    "#checking list of countries\n",
    "clean_df[\"country\"].value_counts()"
   ]
  },
  {
   "cell_type": "code",
   "execution_count": null,
   "id": "04059ef5",
   "metadata": {},
   "outputs": [],
   "source": [
    "#checking list of reasons\n",
    "clean_df[\"reason\"].unique()"
   ]
  },
  {
   "cell_type": "code",
   "execution_count": null,
   "id": "e6b72e28",
   "metadata": {},
   "outputs": [],
   "source": [
    "#checking list of each reason count\n",
    "clean_df[\"reason\"].value_counts()"
   ]
  },
  {
   "cell_type": "code",
   "execution_count": null,
   "id": "4f54ff48",
   "metadata": {},
   "outputs": [],
   "source": [
    "#checking list of segments and counts\n",
    "clean_df[\"segment\"].unique()\n",
    "clean_df[\"segment\"].value_counts()"
   ]
  },
  {
   "cell_type": "code",
   "execution_count": null,
   "id": "2738ab8a",
   "metadata": {},
   "outputs": [],
   "source": [
    "#checking list of each emission type\n",
    "clean_df[\"type\"].unique()"
   ]
  },
  {
   "cell_type": "code",
   "execution_count": null,
   "id": "37189e97",
   "metadata": {},
   "outputs": [],
   "source": [
    "#checking list of each emission types counts\n",
    "clean_df[\"type\"].value_counts()"
   ]
  },
  {
   "cell_type": "code",
   "execution_count": null,
   "id": "dbde226e",
   "metadata": {},
   "outputs": [],
   "source": [
    "#showing top 5 values of Energy emissions\n",
    "energy_df=clean_df[clean_df['type']=='Energy']\n",
    "energy_df.head()"
   ]
  },
  {
   "cell_type": "code",
   "execution_count": null,
   "id": "e69c1181",
   "metadata": {},
   "outputs": [],
   "source": [
    "#showing top 5 values of Agriculture emissions\n",
    "ag_df=clean_df[clean_df['type']=='Agriculture']\n",
    "ag_df.head()"
   ]
  },
  {
   "cell_type": "code",
   "execution_count": null,
   "id": "9e78f8d9",
   "metadata": {},
   "outputs": [],
   "source": [
    "#showing top 5 values of Other emissions\n",
    "other_df=clean_df[clean_df['type']=='Other']\n",
    "other_df.head()"
   ]
  },
  {
   "cell_type": "code",
   "execution_count": null,
   "id": "7699b0d8",
   "metadata": {},
   "outputs": [],
   "source": [
    "#showing top 5 values of Waste emissions\n",
    "waste_df=clean_df[clean_df['type']=='Waste']\n",
    "waste_df.head()"
   ]
  },
  {
   "cell_type": "code",
   "execution_count": null,
   "id": "e1e94aea",
   "metadata": {},
   "outputs": [],
   "source": [
    "#emissions totals by type\n",
    "total_df=clean_df.loc[np.where((clean_df['segment']=='Total'))]\n",
    "total_df.groupby('type').sum().reset_index()"
   ]
  },
  {
   "cell_type": "code",
   "execution_count": null,
   "id": "0d2267e3",
   "metadata": {},
   "outputs": [],
   "source": [
    "#emissions totals for each country\n",
    "total_df=clean_df.loc[np.where((clean_df['segment']=='Total'))]\n",
    "total_df.groupby('country').sum().reset_index()"
   ]
  },
  {
   "cell_type": "code",
   "execution_count": null,
   "id": "6112ebfc",
   "metadata": {},
   "outputs": [],
   "source": [
    "#emissions totals for each region\n",
    "total_df=clean_df.loc[np.where((clean_df['segment']=='Total'))]\n",
    "total_df.groupby('region').sum().reset_index()"
   ]
  },
  {
   "cell_type": "code",
   "execution_count": null,
   "id": "86c65e34",
   "metadata": {},
   "outputs": [],
   "source": [
    "px.pie(total_df,values='emissions',names='region',hole=0.5)"
   ]
  },
  {
   "cell_type": "code",
   "execution_count": null,
   "id": "b5e2723d",
   "metadata": {},
   "outputs": [],
   "source": [
    "# Push the remade DataFrame to a new CSV file\n",
    "clean_df.to_csv(\"./output/clean_emissions_data.csv\",\n",
    "                  encoding=\"utf-8\", index=False, header=True)"
   ]
  },
  {
   "cell_type": "markdown",
   "id": "8a043dbc",
   "metadata": {},
   "source": [
    "# Emissions SQL Query Schema"
   ]
  },
  {
   "cell_type": "markdown",
   "id": "b4b25bcc",
   "metadata": {},
   "source": [
    "```\n",
    "CREATE TABLE emissions(\n",
    "\tregion VARCHAR(100),\n",
    "\tcountry VARCHAR(100),\n",
    "\temissions FLOAT,\n",
    "\ttype VARCHAR(100),\n",
    "\tsegment VARCHAR(100),\n",
    "\treason VARCHAR(100),\n",
    "\tbaseyear VARCHAR,\n",
    "\tnotes VARCHAR\n",
    ");```"
   ]
  },
  {
   "cell_type": "code",
   "execution_count": null,
   "id": "2b42fb5a",
   "metadata": {},
   "outputs": [],
   "source": [
    "#!pip install psycopg2"
   ]
  },
  {
   "cell_type": "code",
   "execution_count": null,
   "id": "d10b351f",
   "metadata": {},
   "outputs": [],
   "source": [
    "# username = \"postgres\"\n",
    "# password = \"postgres\"\n",
    "# hostname = \"localhost\"\n",
    "# port = \"5432\"\n",
    "# db = \"Project_3\"\n",
    "\n",
    "#engine = create_engine(f'postgresql+psycopg2://{username}:{password}@{hostname}:{port}/{db}')"
   ]
  }
 ],
 "metadata": {
  "kernelspec": {
   "display_name": "Python 3 (ipykernel)",
   "language": "python",
   "name": "python3"
  },
  "language_info": {
   "codemirror_mode": {
    "name": "ipython",
    "version": 3
   },
   "file_extension": ".py",
   "mimetype": "text/x-python",
   "name": "python",
   "nbconvert_exporter": "python",
   "pygments_lexer": "ipython3",
   "version": "3.9.13"
  }
 },
 "nbformat": 4,
 "nbformat_minor": 5
}
